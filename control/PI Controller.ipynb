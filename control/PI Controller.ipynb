{
 "cells": [
  {
   "cell_type": "markdown",
   "metadata": {},
   "source": [
    "# PI (Proportional Integral) Controller\n",
    "\n",
    "\n"
   ]
  },
  {
   "cell_type": "code",
   "execution_count": null,
   "metadata": {},
   "outputs": [],
   "source": [
    "import control as ct\n",
    "import numpy as np\n",
    "\n",
    "def dynamics(t, x, u, p):\n",
    "    return u\n",
    "\n",
    "def outputs(t, x, u, p):\n",
    "    return p['ki']*x + p['kp']*u\n",
    "\n",
    "pi_states = ['integral_error']\n",
    "pi_inputs = ['error']\n",
    "pi_outputs = ['control_signal']\n",
    "\n",
    "pid_controller = ct.nlsys(updfcn=dynamics, outfcn=outputs, states=pi_states, inputs=pi_inputs, outputs=pi_outputs, name='pid_controller')\n",
    "\n",
    "# Time vector\n",
    "t = np.arange(0.0, 10.0, 0.01)\n",
    "\n",
    "# Parameters\n",
    "pid_controller.params = {\n",
    "\t'kp': 1.0,\n",
    "\t'ki': 0.1,\n",
    "}\n",
    "\n",
    "# Run step response simulation\n",
    "result = ct.step_response(pid_controller, T=t)\n",
    "\n",
    "# Plot results\n",
    "p = result.plot()\n",
    "p.figure.show()\n",
    "\t"
   ]
  },
  {
   "cell_type": "markdown",
   "metadata": {},
   "source": [
    "# References"
   ]
  }
 ],
 "metadata": {
  "kernelspec": {
   "display_name": "venv",
   "language": "python",
   "name": "python3"
  },
  "language_info": {
   "codemirror_mode": {
    "name": "ipython",
    "version": 3
   },
   "file_extension": ".py",
   "mimetype": "text/x-python",
   "name": "python",
   "nbconvert_exporter": "python",
   "pygments_lexer": "ipython3",
   "version": "3.10.4"
  }
 },
 "nbformat": 4,
 "nbformat_minor": 2
}
