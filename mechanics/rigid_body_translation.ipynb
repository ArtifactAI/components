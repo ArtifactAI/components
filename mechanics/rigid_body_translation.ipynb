{
 "cells": [
  {
   "cell_type": "markdown",
   "metadata": {},
   "source": [
    "# Rigid Body Translation System\n",
    "\n",
    "The time derivative of a vector taken in the inertial frame, is equal to the time derivative of the vector taken in the body-fixed frame plus the cross product of the rotational rate and the vector.\n",
    "\n",
    "\\begin{align}\n",
    "\\frac{d^{(I)}\\vec{v}}{dt} = \\frac{d^{(b)}\\vec{v}}{dt} + \\vec{\\omega} \\times \\vec{v}\n",
    "\\end{align}\n",
    "\n",
    "where $I$ is the inertial frame and $b$ is a rotating frame, commonly referred to as the body-fixed frame in many mechanics applications.\n",
    "\n",
    "Applying Newton's law to a system with mass $m$, velocity state $v_b = [u \\; v \\; w]^T$, force input $F_b = [F_x \\; F_y \\; F_z]^T$ and rotational rate $\\omega_b = [p \\; q \\; r]^T$\n",
    "\n",
    "\\begin{align}\n",
    "\\dot{v}_b = \\frac{F_b}{m} - \\omega_b \\times v_b\n",
    "\\end{align}\n",
    "\n",
    "Subscripts indicate the frame of reference."
   ]
  },
  {
   "cell_type": "code",
   "execution_count": null,
   "metadata": {},
   "outputs": [],
   "source": [
    "import control as ct\n",
    "import numpy as np\n",
    "\n",
    "def dynamics(t, x, u, p):\n",
    "    # x is the velocity state\n",
    "    # u[1:3] is the force vector\n",
    "    # u[4:6] is the rotational rate\n",
    "\n",
    "    force = u[:3] \n",
    "    omega = u[3:]  \n",
    "\n",
    "    return force / p['mass'] - np.cross(omega, x)\n",
    "\n",
    "def outputs(t, x, u, p):\n",
    "    return x\n",
    "\n",
    "translation_states = ['u', 'v', 'w']\n",
    "translation_inputs = ['Fx', 'Fy', 'Fz', 'p', 'q', 'r']\n",
    "translation_outputs = ['u', 'v', 'w']\n",
    "\n",
    "translation= ct.nlsys(dynamics, outfcn=outputs, states=translation_states, inputs=translation_inputs, outputs=translation_outputs, name='translation')\n",
    "\n",
    "translation.params = {'mass': 1.0}\n",
    "\n",
    "t = np.arange(0.0, 10.0, 0.01)\n",
    "\n",
    "# Define input functions\n",
    "u0 = lambda t: np.array([10, 0, 0])\n",
    "u1 = lambda t: np.array([0, 0, 1])\n",
    "# Combine input functions\n",
    "\n",
    "U = np.vstack([\n",
    "    np.array([u0(ti) for ti in t]).T,\n",
    "    np.array([u1(ti) for ti in t]).T,\n",
    "])\n",
    "\n",
    "# Run input-output response simulation\n",
    "result = ct.input_output_response(translation, T=t, U=U)\n",
    "\n",
    "# Plot results\n",
    "p = result.plot()\n",
    "p.figure.show()"
   ]
  },
  {
   "cell_type": "markdown",
   "metadata": {},
   "source": [
    "# References"
   ]
  }
 ],
 "metadata": {
  "kernelspec": {
   "display_name": "venv",
   "language": "python",
   "name": "python3"
  },
  "language_info": {
   "codemirror_mode": {
    "name": "ipython",
    "version": 3
   },
   "file_extension": ".py",
   "mimetype": "text/x-python",
   "name": "python",
   "nbconvert_exporter": "python",
   "pygments_lexer": "ipython3",
   "version": "3.10.4"
  }
 },
 "nbformat": 4,
 "nbformat_minor": 2
}
