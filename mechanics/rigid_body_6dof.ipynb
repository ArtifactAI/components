{
 "cells": [
  {
   "cell_type": "markdown",
   "metadata": {},
   "source": [
    "# Rigid Body 6-DoF System\n",
    "\n",
    "The time derivative of a vector taken in the inertial frame, is equal to the time derivative of the vector taken in the body-fixed frame plus the cross product of the rotational rate and the vector.\n",
    "\n",
    "\\begin{align}\n",
    "\\frac{d^{(I)}\\vec{v}}{dt} = \\frac{d^{(b)}\\vec{v}}{dt} + \\vec{\\omega} \\times \\vec{v}\n",
    "\\end{align}\n",
    "\n",
    "where $I$ is the inertial frame and $b$ is a rotating frame, commonly referred to as the body-fixed frame in many mechanics applications.\n",
    "\n",
    "Applying Newton's law to a system with mass $m$, velocity state $v_b = [u \\; v \\; w]^T$, force input $F_b = [F_x \\; F_y \\; F_z]^T$ and rotational rate $\\omega_b = [p \\; q \\; r]^T$\n",
    "\n",
    "\\begin{align}\n",
    "\\dot{v}_b = \\frac{F_b}{m} - \\omega_b \\times v_b\n",
    "\\end{align}\n",
    "\n",
    "Subscripts indicate the frame of reference.\n",
    "\n",
    "Finish this description..."
   ]
  },
  {
   "cell_type": "code",
   "execution_count": null,
   "metadata": {},
   "outputs": [],
   "source": [
    "import control as ct\n",
    "import numpy as np\n",
    "from scipy.spatial.transform import Rotation as R\n",
    "\n",
    "\n",
    "def dynamics(t, x, u, params):\n",
    "\n",
    "    pos = x[:3] # inertial frame\n",
    "    vel = x[3:6] # body frame\n",
    "    quaternion = x[6:10] # (real, x, y, z)\n",
    "    omega = x[10:]    \n",
    "\n",
    "    force = u[:3]  \n",
    "    moments = u[3:]\n",
    "\n",
    "    # Position derivatives\n",
    "    quat_body_to_inertial = np.roll(quaternion, -1) # Rotation package expects quat in (x, y, z, real) format\n",
    "    R_body_to_inertial = R.from_quat(quat_body_to_inertial)\n",
    "    ddt_pos = R_body_to_inertial.apply(vel)\n",
    "\n",
    "    # Velocity derivatives\n",
    "    ddt_vel = force / params['mass'] - np.cross(omega, vel)\n",
    "\n",
    "    # Quaternion derivatives\n",
    "    Q = np.array([[0, -omega[0], -omega[1], -omega[2]],\n",
    "                [omega[0], 0, omega[2], -omega[1]],\n",
    "                [omega[1], -omega[2], 0, omega[0]],\n",
    "                [omega[2], omega[1], -omega[0], 0]])\n",
    "    \n",
    "    ddt_quaternion = .5*Q @ quaternion\n",
    "\n",
    "    # Angular rate derivatives\n",
    "    ddt_omega = np.linalg.inv(params['inertia']) @ (moments - np.cross(omega, params['inertia'] @ omega))\n",
    "    \n",
    "    return np.hstack([ddt_pos, ddt_vel, ddt_quaternion, ddt_omega])\n",
    "\n",
    "def outputs(t, x, u, p):\n",
    "    return x\n",
    "\n",
    "\n",
    "x0 = np.array([initial_state[key] for key in [\n",
    "    'x', 'y', 'z', 'u', 'v', 'w', 'qw', 'qx', 'qy', 'qz', 'p', 'q', 'r'\n",
    "]])\n",
    "\n",
    "states = ['x', 'y', 'z', 'u', 'v', 'w', 'qw', 'qx', 'qy', 'qz', 'p', 'q', 'r']\n",
    "inputs = ['Fx', 'Fy', 'Fz', 'Mx', 'My', 'Mz']\n",
    "\n",
    "rigid_body_6dof = ct.nlsys(dynamics, outfcn=outputs, states=states, inputs=inputs, outputs=states, name='rigid_body_6dof')"
   ]
  },
  {
   "cell_type": "markdown",
   "metadata": {},
   "source": [
    "# References"
   ]
  }
 ],
 "metadata": {
  "kernelspec": {
   "display_name": "venv",
   "language": "python",
   "name": "python3"
  },
  "language_info": {
   "codemirror_mode": {
    "name": "ipython",
    "version": 3
   },
   "file_extension": ".py",
   "mimetype": "text/x-python",
   "name": "python",
   "nbconvert_exporter": "python",
   "pygments_lexer": "ipython3",
   "version": "3.10.4"
  }
 },
 "nbformat": 4,
 "nbformat_minor": 2
}
