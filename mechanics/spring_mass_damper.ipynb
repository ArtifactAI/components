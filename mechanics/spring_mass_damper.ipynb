{
 "cells": [
  {
   "cell_type": "markdown",
   "metadata": {},
   "source": [
    "# Spring Mass Damper System\n",
    "\n",
    "This is a general second order system.\n",
    "\n",
    "Dynamics:\n",
    "\\begin{align}\n",
    "\\begin{bmatrix}\n",
    "\\dot{x}_1 \\\\\n",
    "\\dot{x}_2\n",
    "\\end{bmatrix} = \n",
    "\\begin{bmatrix}\n",
    "0 & 1 \\\\\n",
    "-\\frac{k}{m} & -\\frac{c}{m}\n",
    "\\end{bmatrix}\n",
    "\\begin{bmatrix}\n",
    "x_1 \\\\\n",
    "x_2\n",
    "\\end{bmatrix} +\n",
    "\\begin{bmatrix}\n",
    "0 \\\\\n",
    "\\frac{1}{m}\n",
    "\\end{bmatrix}u\n",
    "\\end{align}\n"
   ]
  },
  {
   "cell_type": "code",
   "execution_count": null,
   "metadata": {},
   "outputs": [],
   "source": [
    "import control as ct\n",
    "import numpy as np\n",
    "\n",
    "def dynamics(t, x, u, p):\n",
    "    kp = p['kp'] # spring constant\n",
    "    kd = p['kd'] # damping coefficient\n",
    "    m = p['mass'] # mass\n",
    "    A = np.array([[0, 1], [-kp/m, -kd/m]])\n",
    "    B = np.array([[0], [1/m]])\n",
    "    return A @ x + B @ u\n",
    "\n",
    "def outputs(t, x, u, p):\n",
    "    return x\n",
    "\n",
    "spring_mass_damper = ct.nlsys(updfcn=dynamics, outfcn=outputs, states=2, inputs=1, outputs=2, name='spring_mass_damper')\n",
    "\n",
    "if __name__ == '__main__':\n",
    "\t# Time vector\n",
    "\tt = np.arange(0.0, 10.0, 0.01)\n",
    "\t\n",
    "\t# Parameters\n",
    "\tspring_mass_damper.params = {\n",
    "\t    'mass': 1.0,\n",
    "\t    'kp': 1.0,\n",
    "\t    'kd': 0.1\n",
    "\t}\n",
    "\t\n",
    "\t# Initial state\n",
    "\tx0 = np.array([0.0, 0.0])\n",
    "\t\n",
    "\t# Define input functions\n",
    "\tu0 = lambda t: 1\n",
    "\t\n",
    "\t# Combine input functions\n",
    "\tU = np.vstack([\n",
    "\t    np.array([u0(ti) for ti in t]).T\n",
    "\t])\n",
    "\t\n",
    "\t# Run input-output response simulation\n",
    "\tresult = ct.input_output_response(spring_mass_damper, T=t, U=U, X0=x0)\n",
    "\t\n",
    "\t# Plot results\n",
    "\tp = result.plot()\n",
    "\tp.figure.show()"
   ]
  },
  {
   "cell_type": "markdown",
   "metadata": {},
   "source": [
    "# References"
   ]
  }
 ],
 "metadata": {
  "kernelspec": {
   "display_name": "venv",
   "language": "python",
   "name": "python3"
  },
  "language_info": {
   "codemirror_mode": {
    "name": "ipython",
    "version": 3
   },
   "file_extension": ".py",
   "mimetype": "text/x-python",
   "name": "python",
   "nbconvert_exporter": "python",
   "pygments_lexer": "ipython3",
   "version": "3.10.4"
  }
 },
 "nbformat": 4,
 "nbformat_minor": 2
}
